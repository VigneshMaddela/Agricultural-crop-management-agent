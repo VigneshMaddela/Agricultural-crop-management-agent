{
  "nbformat": 4,
  "nbformat_minor": 0,
  "metadata": {
    "colab": {
      "provenance": []
    },
    "kernelspec": {
      "name": "python3",
      "display_name": "Python 3"
    },
    "language_info": {
      "name": "python"
    }
  },
  "cells": [
    {
      "cell_type": "code",
      "execution_count": 1,
      "metadata": {
        "colab": {
          "base_uri": "https://localhost:8080/"
        },
        "id": "lTySEniSaxyM",
        "outputId": "8648a290-45c0-4593-fcc5-aa280be2c5d1"
      },
      "outputs": [
        {
          "output_type": "stream",
          "name": "stdout",
          "text": [
            "Soil Moisture Level: 46%\n",
            "Rain Expected: True\n",
            "Pest Count: 0\n",
            "Irrigation Decision: No Irrigation Needed\n",
            "Pesticide Decision: No Pesticide Needed\n"
          ]
        }
      ],
      "source": [
        "import random\n",
        "\n",
        "class CropManagementAgent:\n",
        "    def __init__(self, soil_moisture_threshold=30, pest_threshold=5):\n",
        "        self.soil_moisture_threshold = soil_moisture_threshold\n",
        "        self.pest_threshold = pest_threshold\n",
        "\n",
        "    def get_weather_forecast(self):\n",
        "        \"\"\"Simulates fetching weather forecast: returns True if rain is expected.\"\"\"\n",
        "        return random.choice([True, False])\n",
        "\n",
        "    def get_soil_moisture(self):\n",
        "        \"\"\"Simulates soil moisture sensor: returns a random value between 10 and 100.\"\"\"\n",
        "        return random.randint(10, 100)\n",
        "\n",
        "    def get_pest_count(self):\n",
        "        \"\"\"Simulates pest detection: returns a random count of pests.\"\"\"\n",
        "        return random.randint(0, 10)\n",
        "\n",
        "    def decide_irrigation(self, soil_moisture, rain_expected):\n",
        "        \"\"\"Determines if irrigation is needed.\"\"\"\n",
        "        if soil_moisture < self.soil_moisture_threshold and not rain_expected:\n",
        "            return \"Start Irrigation\"\n",
        "        return \"No Irrigation Needed\"\n",
        "\n",
        "    def decide_pesticide_application(self, pest_count):\n",
        "        \"\"\"Determines if pesticide application is needed.\"\"\"\n",
        "        if pest_count > self.pest_threshold:\n",
        "            return \"Apply Pesticide\"\n",
        "        return \"No Pesticide Needed\"\n",
        "\n",
        "    def run_agent(self):\n",
        "        \"\"\"Runs the goal-based agent to make decisions.\"\"\"\n",
        "        soil_moisture = self.get_soil_moisture()\n",
        "        rain_expected = self.get_weather_forecast()\n",
        "        pest_count = self.get_pest_count()\n",
        "\n",
        "        irrigation_decision = self.decide_irrigation(soil_moisture, rain_expected)\n",
        "        pesticide_decision = self.decide_pesticide_application(pest_count)\n",
        "\n",
        "        print(f\"Soil Moisture Level: {soil_moisture}%\")\n",
        "        print(f\"Rain Expected: {rain_expected}\")\n",
        "        print(f\"Pest Count: {pest_count}\")\n",
        "        print(f\"Irrigation Decision: {irrigation_decision}\")\n",
        "        print(f\"Pesticide Decision: {pesticide_decision}\")\n",
        "\n",
        "# Run the agent\n",
        "agent = CropManagementAgent()\n",
        "agent.run_agent()\n"
      ]
    }
  ]
}